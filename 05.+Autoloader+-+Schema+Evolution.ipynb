{
 "cells": [
  {
   "cell_type": "code",
   "execution_count": 0,
   "metadata": {
    "application/vnd.databricks.v1+cell": {
     "cellMetadata": {
      "byteLimit": 2048000,
      "rowLimit": 10000
     },
     "inputWidgets": {},
     "nuid": "a93f237c-948c-483c-954a-21e69a7384e2",
     "showTitle": false,
     "title": ""
    }
   },
   "outputs": [
    {
     "output_type": "stream",
     "name": "stdout",
     "output_type": "stream",
     "text": [
      "Out[1]: True"
     ]
    }
   ],
   "source": [
    "dbutils.fs.rm('dbfs:/user/hive/warehouse/stream.db',True)\n",
    "dbutils.fs.rm('dbfs:/FileStore/streaming',True)"
   ]
  },
  {
   "cell_type": "code",
   "execution_count": 0,
   "metadata": {
    "application/vnd.databricks.v1+cell": {
     "cellMetadata": {
      "byteLimit": 2048000,
      "implicitDf": true,
      "rowLimit": 10000
     },
     "inputWidgets": {},
     "nuid": "737a685d-f33d-4285-8332-00bf402101f5",
     "showTitle": false,
     "title": ""
    }
   },
   "outputs": [
    {
     "output_type": "display_data",
     "data": {
      "text/html": [
       "<style scoped>\n",
       "  .table-result-container {\n",
       "    max-height: 300px;\n",
       "    overflow: auto;\n",
       "  }\n",
       "  table, th, td {\n",
       "    border: 1px solid black;\n",
       "    border-collapse: collapse;\n",
       "  }\n",
       "  th, td {\n",
       "    padding: 5px;\n",
       "  }\n",
       "  th {\n",
       "    text-align: left;\n",
       "  }\n",
       "</style><div class='table-result-container'><table class='table-result'><thead style='background-color: white'><tr></tr></thead><tbody></tbody></table></div>"
      ]
     },
     "metadata": {
      "application/vnd.databricks.v1+output": {
       "addedWidgets": {},
       "aggData": [],
       "aggError": "",
       "aggOverflow": false,
       "aggSchema": [],
       "aggSeriesLimitReached": false,
       "aggType": "",
       "arguments": {},
       "columnCustomDisplayInfos": {},
       "data": [],
       "datasetInfos": [],
       "dbfsResultPath": null,
       "isJsonSchema": true,
       "metadata": {},
       "overflow": false,
       "plotOptions": {
        "customPlotOptions": {},
        "displayType": "table",
        "pivotAggregation": null,
        "pivotColumns": null,
        "xColumns": null,
        "yColumns": null
       },
       "removedWidgets": [],
       "schema": [],
       "type": "table"
      }
     },
     "output_type": "display_data"
    }
   ],
   "source": [
    "%sql\n",
    "DROP DATABASE IF EXISTS stream CASCADE;\n",
    "CREATE DATABASE IF NOT EXISTS stream"
   ]
  },
  {
   "cell_type": "markdown",
   "metadata": {
    "application/vnd.databricks.v1+cell": {
     "cellMetadata": {},
     "inputWidgets": {},
     "nuid": "632c81e2-106e-4074-b4a3-9f8fb9ed9e8c",
     "showTitle": false,
     "title": ""
    }
   },
   "source": [
    "\n",
    "## AutoLoader"
   ]
  },
  {
   "cell_type": "code",
   "execution_count": 0,
   "metadata": {
    "application/vnd.databricks.v1+cell": {
     "cellMetadata": {
      "byteLimit": 2048000,
      "rowLimit": 10000
     },
     "inputWidgets": {},
     "nuid": "f3b85c29-2de6-403b-b53a-7be203e15d4e",
     "showTitle": false,
     "title": ""
    }
   },
   "outputs": [],
   "source": [
    "source_dir = 'dbfs:/FileStore/streaming/'"
   ]
  },
  {
   "cell_type": "code",
   "execution_count": 0,
   "metadata": {
    "application/vnd.databricks.v1+cell": {
     "cellMetadata": {
      "byteLimit": 2048000,
      "rowLimit": 10000
     },
     "inputWidgets": {},
     "nuid": "2bcd3ec2-7963-413f-91f1-0c80881914c3",
     "showTitle": false,
     "title": ""
    }
   },
   "outputs": [],
   "source": [
    "df = spark.readStream\\\n",
    "        .format('cloudFiles')\\\n",
    "        .option(\"cloudFiles.format\",\"csv\")\\\n",
    "        .option(\"cloudFiles.schemaLocation\",f'{source_dir}/schemaInfer')\\\n",
    "        .option(\"cloudFiles.inferColumnTypes\",\"true\")\\\n",
    "        .option('header','true')\\\n",
    "        .load(source_dir)"
   ]
  },
  {
   "cell_type": "code",
   "execution_count": 0,
   "metadata": {
    "application/vnd.databricks.v1+cell": {
     "cellMetadata": {
      "byteLimit": 2048000,
      "rowLimit": 10000
     },
     "inputWidgets": {},
     "nuid": "f04d57b2-3222-4a8f-be16-a2b3d562ff1d",
     "showTitle": false,
     "title": ""
    }
   },
   "outputs": [
    {
     "output_type": "stream",
     "name": "stdout",
     "output_type": "stream",
     "text": [
      "Out[13]: [FileInfo(path='dbfs:/FileStore/streaming/schemaInfer/_schemas/', name='_schemas/', size=0, modificationTime=0)]"
     ]
    }
   ],
   "source": [
    "dbutils.fs.ls(f'{source_dir}/schemaInfer')"
   ]
  },
  {
   "cell_type": "code",
   "execution_count": 0,
   "metadata": {
    "application/vnd.databricks.v1+cell": {
     "cellMetadata": {
      "byteLimit": 2048000,
      "rowLimit": 10000
     },
     "inputWidgets": {},
     "nuid": "255f4bd7-819c-4374-956b-83189f8fd2a9",
     "showTitle": false,
     "title": ""
    }
   },
   "outputs": [
    {
     "output_type": "stream",
     "name": "stdout",
     "output_type": "stream",
     "text": [
      "Out[14]: [FileInfo(path='dbfs:/FileStore/streaming/schemaInfer/_schemas/0', name='0', size=274, modificationTime=1701879153000)]"
     ]
    }
   ],
   "source": [
    "dbutils.fs.ls('dbfs:/FileStore/streaming/schemaInfer/_schemas/')"
   ]
  },
  {
   "cell_type": "code",
   "execution_count": 0,
   "metadata": {
    "application/vnd.databricks.v1+cell": {
     "cellMetadata": {
      "byteLimit": 2048000,
      "implicitDf": true,
      "rowLimit": 10000
     },
     "inputWidgets": {},
     "nuid": "164deb48-8f36-4964-9ad7-43a591fe3c97",
     "showTitle": false,
     "title": ""
    }
   },
   "outputs": [
    {
     "output_type": "display_data",
     "data": {
      "text/html": [
       "<style scoped>\n",
       "  .table-result-container {\n",
       "    max-height: 300px;\n",
       "    overflow: auto;\n",
       "  }\n",
       "  table, th, td {\n",
       "    border: 1px solid black;\n",
       "    border-collapse: collapse;\n",
       "  }\n",
       "  th, td {\n",
       "    padding: 5px;\n",
       "  }\n",
       "  th {\n",
       "    text-align: left;\n",
       "  }\n",
       "</style><div class='table-result-container'><table class='table-result'><thead style='background-color: white'><tr><th>_corrupt_record</th><th>dataSchemaJson</th><th>partitionSchemaJson</th></tr></thead><tbody><tr><td>v1</td><td>null</td><td>null</td></tr><tr><td>null</td><td>{\"type\":\"struct\",\"fields\":[{\"name\":\"Country\",\"type\":\"string\",\"nullable\":true,\"metadata\":{}},{\"name\":\"Citizens\",\"type\":\"integer\",\"nullable\":true,\"metadata\":{}}]}</td><td>{\"type\":\"struct\",\"fields\":[]}</td></tr></tbody></table></div>"
      ]
     },
     "metadata": {
      "application/vnd.databricks.v1+output": {
       "addedWidgets": {},
       "aggData": [],
       "aggError": "",
       "aggOverflow": false,
       "aggSchema": [],
       "aggSeriesLimitReached": false,
       "aggType": "",
       "arguments": {},
       "columnCustomDisplayInfos": {},
       "data": [
        [
         "v1",
         null,
         null
        ],
        [
         null,
         "{\"type\":\"struct\",\"fields\":[{\"name\":\"Country\",\"type\":\"string\",\"nullable\":true,\"metadata\":{}},{\"name\":\"Citizens\",\"type\":\"integer\",\"nullable\":true,\"metadata\":{}}]}",
         "{\"type\":\"struct\",\"fields\":[]}"
        ]
       ],
       "datasetInfos": [],
       "dbfsResultPath": null,
       "isJsonSchema": true,
       "metadata": {},
       "overflow": false,
       "plotOptions": {
        "customPlotOptions": {},
        "displayType": "table",
        "pivotAggregation": null,
        "pivotColumns": null,
        "xColumns": null,
        "yColumns": null
       },
       "removedWidgets": [],
       "schema": [
        {
         "metadata": "{}",
         "name": "_corrupt_record",
         "type": "\"string\""
        },
        {
         "metadata": "{}",
         "name": "dataSchemaJson",
         "type": "\"string\""
        },
        {
         "metadata": "{}",
         "name": "partitionSchemaJson",
         "type": "\"string\""
        }
       ],
       "type": "table"
      }
     },
     "output_type": "display_data"
    }
   ],
   "source": [
    "%sql\n",
    "\n",
    "SELECT *\n",
    "FROM JSON.`dbfs:/FileStore/streaming/schemaInfer/_schemas/0`"
   ]
  },
  {
   "cell_type": "markdown",
   "metadata": {
    "application/vnd.databricks.v1+cell": {
     "cellMetadata": {
      "byteLimit": 2048000,
      "rowLimit": 10000
     },
     "inputWidgets": {},
     "nuid": "a41cc5d5-95da-4381-84f5-b806056dcce4",
     "showTitle": false,
     "title": ""
    }
   },
   "source": [
    "### SchemaHints"
   ]
  },
  {
   "cell_type": "code",
   "execution_count": 0,
   "metadata": {
    "application/vnd.databricks.v1+cell": {
     "cellMetadata": {
      "byteLimit": 2048000,
      "rowLimit": 10000
     },
     "inputWidgets": {},
     "nuid": "4a421317-1fa2-460f-add4-85b06c7d1319",
     "showTitle": false,
     "title": ""
    }
   },
   "outputs": [],
   "source": [
    "df = spark.readStream\\\n",
    "        .format('cloudFiles')\\\n",
    "        .option(\"cloudFiles.format\",\"csv\")\\\n",
    "        .option(\"cloudFiles.schemaLocation\",f'{source_dir}/schemaInfer')\\\n",
    "        .option(\"cloudFiles.inferColumnTypes\",\"true\")\\\n",
    "        .option('cloudFiles.schemaHints',\"Citizens LONG\")\\\n",
    "        .option('header','true')\\\n",
    "        .load(source_dir)"
   ]
  },
  {
   "cell_type": "code",
   "execution_count": 0,
   "metadata": {
    "application/vnd.databricks.v1+cell": {
     "cellMetadata": {
      "byteLimit": 2048000,
      "rowLimit": 10000
     },
     "inputWidgets": {},
     "nuid": "7e58e936-b2a0-464b-8cce-2893a275d405",
     "showTitle": false,
     "title": ""
    }
   },
   "outputs": [
    {
     "output_type": "display_data",
     "data": {
      "text/html": [
       "<style scoped>\n",
       "  .table-result-container {\n",
       "    max-height: 300px;\n",
       "    overflow: auto;\n",
       "  }\n",
       "  table, th, td {\n",
       "    border: 1px solid black;\n",
       "    border-collapse: collapse;\n",
       "  }\n",
       "  th, td {\n",
       "    padding: 5px;\n",
       "  }\n",
       "  th {\n",
       "    text-align: left;\n",
       "  }\n",
       "</style><div class='table-result-container'><table class='table-result'><thead style='background-color: white'><tr><th>Country</th><th>Citizens</th><th>_rescued_data</th></tr></thead><tbody><tr><td>India</td><td>10</td><td>null</td></tr><tr><td>USA</td><td>5</td><td>null</td></tr><tr><td>China</td><td>10</td><td>null</td></tr><tr><td>India</td><td>10</td><td>null</td></tr><tr><td>Canada</td><td>40</td><td>null</td></tr><tr><td>Brazil</td><td>10</td><td>null</td></tr></tbody></table></div>"
      ]
     },
     "metadata": {
      "application/vnd.databricks.v1+output": {
       "addedWidgets": {},
       "aggData": [],
       "aggError": "",
       "aggOverflow": false,
       "aggSchema": [],
       "aggSeriesLimitReached": false,
       "aggType": "",
       "arguments": {},
       "columnCustomDisplayInfos": {},
       "data": [
        [
         "India",
         10,
         null
        ],
        [
         "USA",
         5,
         null
        ],
        [
         "China",
         10,
         null
        ],
        [
         "India",
         10,
         null
        ],
        [
         "Canada",
         40,
         null
        ],
        [
         "Brazil",
         10,
         null
        ]
       ],
       "datasetInfos": [],
       "dbfsResultPath": null,
       "isJsonSchema": true,
       "metadata": {
        "isDbfsCommandResult": false
       },
       "overflow": false,
       "plotOptions": {
        "customPlotOptions": {},
        "displayType": "table",
        "pivotAggregation": null,
        "pivotColumns": null,
        "xColumns": null,
        "yColumns": null
       },
       "removedWidgets": [],
       "schema": [
        {
         "metadata": "{}",
         "name": "Country",
         "type": "\"string\""
        },
        {
         "metadata": "{}",
         "name": "Citizens",
         "type": "\"long\""
        },
        {
         "metadata": "{}",
         "name": "_rescued_data",
         "type": "\"string\""
        }
       ],
       "type": "table"
      }
     },
     "output_type": "display_data"
    }
   ],
   "source": [
    "display(df)"
   ]
  },
  {
   "cell_type": "code",
   "execution_count": 0,
   "metadata": {
    "application/vnd.databricks.v1+cell": {
     "cellMetadata": {
      "byteLimit": 2048000,
      "implicitDf": true,
      "rowLimit": 10000
     },
     "inputWidgets": {},
     "nuid": "6ddc5cf8-9474-45f4-b86c-135558ebbf6b",
     "showTitle": false,
     "title": ""
    }
   },
   "outputs": [
    {
     "output_type": "display_data",
     "data": {
      "text/html": [
       "<style scoped>\n",
       "  .table-result-container {\n",
       "    max-height: 300px;\n",
       "    overflow: auto;\n",
       "  }\n",
       "  table, th, td {\n",
       "    border: 1px solid black;\n",
       "    border-collapse: collapse;\n",
       "  }\n",
       "  th, td {\n",
       "    padding: 5px;\n",
       "  }\n",
       "  th {\n",
       "    text-align: left;\n",
       "  }\n",
       "</style><div class='table-result-container'><table class='table-result'><thead style='background-color: white'><tr><th>_corrupt_record</th><th>dataSchemaJson</th><th>partitionSchemaJson</th></tr></thead><tbody><tr><td>v1</td><td>null</td><td>null</td></tr><tr><td>null</td><td>{\"type\":\"struct\",\"fields\":[{\"name\":\"Country\",\"type\":\"string\",\"nullable\":true,\"metadata\":{}},{\"name\":\"Citizens\",\"type\":\"integer\",\"nullable\":true,\"metadata\":{}}]}</td><td>{\"type\":\"struct\",\"fields\":[]}</td></tr></tbody></table></div>"
      ]
     },
     "metadata": {
      "application/vnd.databricks.v1+output": {
       "addedWidgets": {},
       "aggData": [],
       "aggError": "",
       "aggOverflow": false,
       "aggSchema": [],
       "aggSeriesLimitReached": false,
       "aggType": "",
       "arguments": {},
       "columnCustomDisplayInfos": {},
       "data": [
        [
         "v1",
         null,
         null
        ],
        [
         null,
         "{\"type\":\"struct\",\"fields\":[{\"name\":\"Country\",\"type\":\"string\",\"nullable\":true,\"metadata\":{}},{\"name\":\"Citizens\",\"type\":\"integer\",\"nullable\":true,\"metadata\":{}}]}",
         "{\"type\":\"struct\",\"fields\":[]}"
        ]
       ],
       "datasetInfos": [],
       "dbfsResultPath": null,
       "isJsonSchema": true,
       "metadata": {},
       "overflow": false,
       "plotOptions": {
        "customPlotOptions": {},
        "displayType": "table",
        "pivotAggregation": null,
        "pivotColumns": null,
        "xColumns": null,
        "yColumns": null
       },
       "removedWidgets": [],
       "schema": [
        {
         "metadata": "{}",
         "name": "_corrupt_record",
         "type": "\"string\""
        },
        {
         "metadata": "{}",
         "name": "dataSchemaJson",
         "type": "\"string\""
        },
        {
         "metadata": "{}",
         "name": "partitionSchemaJson",
         "type": "\"string\""
        }
       ],
       "type": "table"
      }
     },
     "output_type": "display_data"
    }
   ],
   "source": [
    "%sql\n",
    "\n",
    "SELECT *\n",
    "FROM JSON.`dbfs:/FileStore/streaming/schemaInfer/_schemas/0`"
   ]
  },
  {
   "cell_type": "markdown",
   "metadata": {
    "application/vnd.databricks.v1+cell": {
     "cellMetadata": {},
     "inputWidgets": {},
     "nuid": "3a3ba14f-06ba-4e98-b83f-8a18f502c2f7",
     "showTitle": false,
     "title": ""
    }
   },
   "source": [
    "\n",
    "## Schema Evolution"
   ]
  },
  {
   "cell_type": "code",
   "execution_count": 0,
   "metadata": {
    "application/vnd.databricks.v1+cell": {
     "cellMetadata": {
      "byteLimit": 2048000,
      "rowLimit": 10000
     },
     "inputWidgets": {},
     "nuid": "231dfafc-ae08-4a05-a7dd-86b99e93c846",
     "showTitle": false,
     "title": ""
    }
   },
   "outputs": [],
   "source": [
    "df = spark.readStream\\\n",
    "        .format('cloudFiles')\\\n",
    "        .option(\"cloudFiles.format\",\"csv\")\\\n",
    "        .option(\"cloudFiles.schemaLocation\",f'{source_dir}/schemaInfer')\\\n",
    "        .option('cloudFiles.schemaEvolutionMode','rescue')\\\n",
    "        .option('rescuedDataColumn','_rescued_data')\\\n",
    "        .option(\"cloudFiles.inferColumnTypes\",\"true\")\\\n",
    "        .option('cloudFiles.schemaHints',\"Citizens LONG\")\\\n",
    "        .option('header','true')\\\n",
    "        .load(source_dir)"
   ]
  },
  {
   "cell_type": "code",
   "execution_count": 0,
   "metadata": {
    "application/vnd.databricks.v1+cell": {
     "cellMetadata": {
      "byteLimit": 2048000,
      "rowLimit": 10000
     },
     "inputWidgets": {},
     "nuid": "d2a613fa-ed6d-4c10-b764-0b34f6fd4237",
     "showTitle": false,
     "title": ""
    }
   },
   "outputs": [
    {
     "output_type": "display_data",
     "data": {
      "text/html": [
       "<style scoped>\n",
       "  .table-result-container {\n",
       "    max-height: 300px;\n",
       "    overflow: auto;\n",
       "  }\n",
       "  table, th, td {\n",
       "    border: 1px solid black;\n",
       "    border-collapse: collapse;\n",
       "  }\n",
       "  th, td {\n",
       "    padding: 5px;\n",
       "  }\n",
       "  th {\n",
       "    text-align: left;\n",
       "  }\n",
       "</style><div class='table-result-container'><table class='table-result'><thead style='background-color: white'><tr><th>Country</th><th>Citizens</th><th>_rescued_data</th></tr></thead><tbody><tr><td>India</td><td>10</td><td>{\"Month\":\"November\",\"Year\":\"2023\",\"_file_path\":\"dbfs:/FileStore/streaming/Countries_newcolumn1.csv\"}</td></tr><tr><td>USA</td><td>10</td><td>{\"Month\":\"November\",\"Year\":\"2023\",\"_file_path\":\"dbfs:/FileStore/streaming/Countries_newcolumn1.csv\"}</td></tr><tr><td>China</td><td>20</td><td>{\"Month\":\"November\",\"Year\":\"2023\",\"_file_path\":\"dbfs:/FileStore/streaming/Countries_newcolumn1.csv\"}</td></tr><tr><td>Brazil</td><td>10</td><td>{\"Month\":\"November\",\"Year\":\"2023\",\"_file_path\":\"dbfs:/FileStore/streaming/Countries_newcolumn1.csv\"}</td></tr><tr><td>India</td><td>10</td><td>null</td></tr><tr><td>USA</td><td>5</td><td>null</td></tr><tr><td>China</td><td>10</td><td>null</td></tr><tr><td>India</td><td>10</td><td>null</td></tr><tr><td>Canada</td><td>40</td><td>null</td></tr><tr><td>Brazil</td><td>10</td><td>null</td></tr></tbody></table></div>"
      ]
     },
     "metadata": {
      "application/vnd.databricks.v1+output": {
       "addedWidgets": {},
       "aggData": [],
       "aggError": "",
       "aggOverflow": false,
       "aggSchema": [],
       "aggSeriesLimitReached": false,
       "aggType": "",
       "arguments": {},
       "columnCustomDisplayInfos": {},
       "data": [
        [
         "India",
         10,
         "{\"Month\":\"November\",\"Year\":\"2023\",\"_file_path\":\"dbfs:/FileStore/streaming/Countries_newcolumn1.csv\"}"
        ],
        [
         "USA",
         10,
         "{\"Month\":\"November\",\"Year\":\"2023\",\"_file_path\":\"dbfs:/FileStore/streaming/Countries_newcolumn1.csv\"}"
        ],
        [
         "China",
         20,
         "{\"Month\":\"November\",\"Year\":\"2023\",\"_file_path\":\"dbfs:/FileStore/streaming/Countries_newcolumn1.csv\"}"
        ],
        [
         "Brazil",
         10,
         "{\"Month\":\"November\",\"Year\":\"2023\",\"_file_path\":\"dbfs:/FileStore/streaming/Countries_newcolumn1.csv\"}"
        ],
        [
         "India",
         10,
         null
        ],
        [
         "USA",
         5,
         null
        ],
        [
         "China",
         10,
         null
        ],
        [
         "India",
         10,
         null
        ],
        [
         "Canada",
         40,
         null
        ],
        [
         "Brazil",
         10,
         null
        ]
       ],
       "datasetInfos": [],
       "dbfsResultPath": null,
       "isJsonSchema": true,
       "metadata": {
        "isDbfsCommandResult": false
       },
       "overflow": false,
       "plotOptions": {
        "customPlotOptions": {},
        "displayType": "table",
        "pivotAggregation": null,
        "pivotColumns": null,
        "xColumns": null,
        "yColumns": null
       },
       "removedWidgets": [],
       "schema": [
        {
         "metadata": "{}",
         "name": "Country",
         "type": "\"string\""
        },
        {
         "metadata": "{}",
         "name": "Citizens",
         "type": "\"long\""
        },
        {
         "metadata": "{}",
         "name": "_rescued_data",
         "type": "\"string\""
        }
       ],
       "type": "table"
      }
     },
     "output_type": "display_data"
    }
   ],
   "source": [
    "display(df)"
   ]
  },
  {
   "cell_type": "code",
   "execution_count": 0,
   "metadata": {
    "application/vnd.databricks.v1+cell": {
     "cellMetadata": {
      "byteLimit": 2048000,
      "implicitDf": true,
      "rowLimit": 10000
     },
     "inputWidgets": {},
     "nuid": "34aa2697-3ad4-42a7-bab7-0ee6d4939bde",
     "showTitle": false,
     "title": ""
    }
   },
   "outputs": [
    {
     "output_type": "display_data",
     "data": {
      "text/html": [
       "<style scoped>\n",
       "  .table-result-container {\n",
       "    max-height: 300px;\n",
       "    overflow: auto;\n",
       "  }\n",
       "  table, th, td {\n",
       "    border: 1px solid black;\n",
       "    border-collapse: collapse;\n",
       "  }\n",
       "  th, td {\n",
       "    padding: 5px;\n",
       "  }\n",
       "  th {\n",
       "    text-align: left;\n",
       "  }\n",
       "</style><div class='table-result-container'><table class='table-result'><thead style='background-color: white'><tr><th>_corrupt_record</th><th>dataSchemaJson</th><th>partitionSchemaJson</th></tr></thead><tbody><tr><td>v1</td><td>null</td><td>null</td></tr><tr><td>null</td><td>{\"type\":\"struct\",\"fields\":[{\"name\":\"Country\",\"type\":\"string\",\"nullable\":true,\"metadata\":{}},{\"name\":\"Citizens\",\"type\":\"integer\",\"nullable\":true,\"metadata\":{}}]}</td><td>{\"type\":\"struct\",\"fields\":[]}</td></tr></tbody></table></div>"
      ]
     },
     "metadata": {
      "application/vnd.databricks.v1+output": {
       "addedWidgets": {},
       "aggData": [],
       "aggError": "",
       "aggOverflow": false,
       "aggSchema": [],
       "aggSeriesLimitReached": false,
       "aggType": "",
       "arguments": {},
       "columnCustomDisplayInfos": {},
       "data": [
        [
         "v1",
         null,
         null
        ],
        [
         null,
         "{\"type\":\"struct\",\"fields\":[{\"name\":\"Country\",\"type\":\"string\",\"nullable\":true,\"metadata\":{}},{\"name\":\"Citizens\",\"type\":\"integer\",\"nullable\":true,\"metadata\":{}}]}",
         "{\"type\":\"struct\",\"fields\":[]}"
        ]
       ],
       "datasetInfos": [],
       "dbfsResultPath": null,
       "isJsonSchema": true,
       "metadata": {},
       "overflow": false,
       "plotOptions": {
        "customPlotOptions": {},
        "displayType": "table",
        "pivotAggregation": null,
        "pivotColumns": null,
        "xColumns": null,
        "yColumns": null
       },
       "removedWidgets": [],
       "schema": [
        {
         "metadata": "{}",
         "name": "_corrupt_record",
         "type": "\"string\""
        },
        {
         "metadata": "{}",
         "name": "dataSchemaJson",
         "type": "\"string\""
        },
        {
         "metadata": "{}",
         "name": "partitionSchemaJson",
         "type": "\"string\""
        }
       ],
       "type": "table"
      }
     },
     "output_type": "display_data"
    }
   ],
   "source": [
    "%sql\n",
    "\n",
    "SELECT *\n",
    "FROM JSON.`dbfs:/FileStore/streaming/schemaInfer/_schemas/0`"
   ]
  },
  {
   "cell_type": "code",
   "execution_count": 0,
   "metadata": {
    "application/vnd.databricks.v1+cell": {
     "cellMetadata": {
      "byteLimit": 2048000,
      "rowLimit": 10000
     },
     "inputWidgets": {},
     "nuid": "8898cf3c-3918-4bf2-960a-a56401334e14",
     "showTitle": false,
     "title": ""
    }
   },
   "outputs": [
    {
     "output_type": "stream",
     "name": "stdout",
     "output_type": "stream",
     "text": [
      "Out[22]: [FileInfo(path='dbfs:/FileStore/streaming/schemaInfer/_schemas/0', name='0', size=274, modificationTime=1701879153000)]"
     ]
    }
   ],
   "source": [
    "dbutils.fs.ls('dbfs:/FileStore/streaming/schemaInfer/_schemas/')"
   ]
  },
  {
   "cell_type": "markdown",
   "metadata": {
    "application/vnd.databricks.v1+cell": {
     "cellMetadata": {},
     "inputWidgets": {},
     "nuid": "a9336635-bc49-4401-8e47-b1ad95b2b634",
     "showTitle": false,
     "title": ""
    }
   },
   "source": [
    "\n",
    "### 02 - addNewColumns - Default"
   ]
  },
  {
   "cell_type": "code",
   "execution_count": 0,
   "metadata": {
    "application/vnd.databricks.v1+cell": {
     "cellMetadata": {
      "byteLimit": 2048000,
      "rowLimit": 10000
     },
     "inputWidgets": {},
     "nuid": "d13eec03-5830-4321-a9d7-c942520b2963",
     "showTitle": false,
     "title": ""
    }
   },
   "outputs": [],
   "source": [
    "df = spark.readStream\\\n",
    "        .format('cloudFiles')\\\n",
    "        .option(\"cloudFiles.format\",\"csv\")\\\n",
    "        .option(\"cloudFiles.schemaLocation\",f'{source_dir}/schemaInfer')\\\n",
    "        .option(\"cloudFiles.inferColumnTypes\",\"true\")\\\n",
    "        .option('cloudFiles.schemaHints',\"Citizens LONG\")\\\n",
    "        .option('header','true')\\\n",
    "        .load(source_dir)"
   ]
  },
  {
   "cell_type": "code",
   "execution_count": 0,
   "metadata": {
    "application/vnd.databricks.v1+cell": {
     "cellMetadata": {
      "byteLimit": 2048000,
      "rowLimit": 10000
     },
     "inputWidgets": {},
     "nuid": "9a8029a6-eb5c-4a91-bd53-7dd72410c70d",
     "showTitle": false,
     "title": ""
    }
   },
   "outputs": [
    {
     "output_type": "display_data",
     "data": {
      "text/html": [
       "<style scoped>\n",
       "  .table-result-container {\n",
       "    max-height: 300px;\n",
       "    overflow: auto;\n",
       "  }\n",
       "  table, th, td {\n",
       "    border: 1px solid black;\n",
       "    border-collapse: collapse;\n",
       "  }\n",
       "  th, td {\n",
       "    padding: 5px;\n",
       "  }\n",
       "  th {\n",
       "    text-align: left;\n",
       "  }\n",
       "</style><div class='table-result-container'><table class='table-result'><thead style='background-color: white'><tr><th>Country</th><th>Citizens</th><th>Year</th><th>Month</th><th>_rescued_data</th></tr></thead><tbody><tr><td>India</td><td>10</td><td>2023</td><td>November</td><td>null</td></tr><tr><td>USA</td><td>10</td><td>2023</td><td>November</td><td>null</td></tr><tr><td>China</td><td>20</td><td>2023</td><td>November</td><td>null</td></tr><tr><td>Brazil</td><td>10</td><td>2023</td><td>November</td><td>null</td></tr><tr><td>India</td><td>10</td><td>null</td><td>null</td><td>null</td></tr><tr><td>USA</td><td>5</td><td>null</td><td>null</td><td>null</td></tr><tr><td>China</td><td>10</td><td>null</td><td>null</td><td>null</td></tr><tr><td>India</td><td>10</td><td>null</td><td>null</td><td>null</td></tr><tr><td>Canada</td><td>40</td><td>null</td><td>null</td><td>null</td></tr><tr><td>Brazil</td><td>10</td><td>null</td><td>null</td><td>null</td></tr><tr><td>India</td><td>10</td><td>2023</td><td>December</td><td>null</td></tr><tr><td>USA</td><td>10</td><td>2023</td><td>December</td><td>null</td></tr><tr><td>China</td><td>20</td><td>2023</td><td>December</td><td>null</td></tr><tr><td>Brazil</td><td>10</td><td>2023</td><td>December</td><td>null</td></tr></tbody></table></div>"
      ]
     },
     "metadata": {
      "application/vnd.databricks.v1+output": {
       "addedWidgets": {},
       "aggData": [],
       "aggError": "",
       "aggOverflow": false,
       "aggSchema": [],
       "aggSeriesLimitReached": false,
       "aggType": "",
       "arguments": {},
       "columnCustomDisplayInfos": {},
       "data": [
        [
         "India",
         10,
         2023,
         "November",
         null
        ],
        [
         "USA",
         10,
         2023,
         "November",
         null
        ],
        [
         "China",
         20,
         2023,
         "November",
         null
        ],
        [
         "Brazil",
         10,
         2023,
         "November",
         null
        ],
        [
         "India",
         10,
         null,
         null,
         null
        ],
        [
         "USA",
         5,
         null,
         null,
         null
        ],
        [
         "China",
         10,
         null,
         null,
         null
        ],
        [
         "India",
         10,
         null,
         null,
         null
        ],
        [
         "Canada",
         40,
         null,
         null,
         null
        ],
        [
         "Brazil",
         10,
         null,
         null,
         null
        ],
        [
         "India",
         10,
         2023,
         "December",
         null
        ],
        [
         "USA",
         10,
         2023,
         "December",
         null
        ],
        [
         "China",
         20,
         2023,
         "December",
         null
        ],
        [
         "Brazil",
         10,
         2023,
         "December",
         null
        ]
       ],
       "datasetInfos": [],
       "dbfsResultPath": null,
       "isJsonSchema": true,
       "metadata": {
        "isDbfsCommandResult": false
       },
       "overflow": false,
       "plotOptions": {
        "customPlotOptions": {},
        "displayType": "table",
        "pivotAggregation": null,
        "pivotColumns": null,
        "xColumns": null,
        "yColumns": null
       },
       "removedWidgets": [],
       "schema": [
        {
         "metadata": "{}",
         "name": "Country",
         "type": "\"string\""
        },
        {
         "metadata": "{}",
         "name": "Citizens",
         "type": "\"long\""
        },
        {
         "metadata": "{}",
         "name": "Year",
         "type": "\"integer\""
        },
        {
         "metadata": "{}",
         "name": "Month",
         "type": "\"string\""
        },
        {
         "metadata": "{}",
         "name": "_rescued_data",
         "type": "\"string\""
        }
       ],
       "type": "table"
      }
     },
     "output_type": "display_data"
    }
   ],
   "source": [
    "display(df)"
   ]
  },
  {
   "cell_type": "code",
   "execution_count": 0,
   "metadata": {
    "application/vnd.databricks.v1+cell": {
     "cellMetadata": {
      "byteLimit": 2048000,
      "rowLimit": 10000
     },
     "inputWidgets": {},
     "nuid": "05e3f204-3e5c-4e96-808e-40b2bf1a184b",
     "showTitle": false,
     "title": ""
    }
   },
   "outputs": [
    {
     "output_type": "stream",
     "name": "stdout",
     "output_type": "stream",
     "text": [
      "Out[25]: [FileInfo(path='dbfs:/FileStore/streaming/schemaInfer/_schemas/0', name='0', size=274, modificationTime=1701879153000),\n FileInfo(path='dbfs:/FileStore/streaming/schemaInfer/_schemas/1', name='1', size=424, modificationTime=1701883002000)]"
     ]
    }
   ],
   "source": [
    "dbutils.fs.ls('dbfs:/FileStore/streaming/schemaInfer/_schemas/')"
   ]
  },
  {
   "cell_type": "code",
   "execution_count": 0,
   "metadata": {
    "application/vnd.databricks.v1+cell": {
     "cellMetadata": {
      "byteLimit": 2048000,
      "implicitDf": true,
      "rowLimit": 10000
     },
     "inputWidgets": {},
     "nuid": "45a334f7-b81e-4734-ad71-137f51f49b8c",
     "showTitle": false,
     "title": ""
    }
   },
   "outputs": [
    {
     "output_type": "display_data",
     "data": {
      "text/html": [
       "<style scoped>\n",
       "  .table-result-container {\n",
       "    max-height: 300px;\n",
       "    overflow: auto;\n",
       "  }\n",
       "  table, th, td {\n",
       "    border: 1px solid black;\n",
       "    border-collapse: collapse;\n",
       "  }\n",
       "  th, td {\n",
       "    padding: 5px;\n",
       "  }\n",
       "  th {\n",
       "    text-align: left;\n",
       "  }\n",
       "</style><div class='table-result-container'><table class='table-result'><thead style='background-color: white'><tr><th>_corrupt_record</th><th>dataSchemaJson</th><th>partitionSchemaJson</th></tr></thead><tbody><tr><td>v1</td><td>null</td><td>null</td></tr><tr><td>null</td><td>{\"type\":\"struct\",\"fields\":[{\"name\":\"Country\",\"type\":\"string\",\"nullable\":true,\"metadata\":{}},{\"name\":\"Citizens\",\"type\":\"integer\",\"nullable\":true,\"metadata\":{}},{\"name\":\"Year\",\"type\":\"integer\",\"nullable\":true,\"metadata\":{}},{\"name\":\"Month\",\"type\":\"string\",\"nullable\":true,\"metadata\":{}}]}</td><td>{\"type\":\"struct\",\"fields\":[]}</td></tr></tbody></table></div>"
      ]
     },
     "metadata": {
      "application/vnd.databricks.v1+output": {
       "addedWidgets": {},
       "aggData": [],
       "aggError": "",
       "aggOverflow": false,
       "aggSchema": [],
       "aggSeriesLimitReached": false,
       "aggType": "",
       "arguments": {},
       "columnCustomDisplayInfos": {},
       "data": [
        [
         "v1",
         null,
         null
        ],
        [
         null,
         "{\"type\":\"struct\",\"fields\":[{\"name\":\"Country\",\"type\":\"string\",\"nullable\":true,\"metadata\":{}},{\"name\":\"Citizens\",\"type\":\"integer\",\"nullable\":true,\"metadata\":{}},{\"name\":\"Year\",\"type\":\"integer\",\"nullable\":true,\"metadata\":{}},{\"name\":\"Month\",\"type\":\"string\",\"nullable\":true,\"metadata\":{}}]}",
         "{\"type\":\"struct\",\"fields\":[]}"
        ]
       ],
       "datasetInfos": [],
       "dbfsResultPath": null,
       "isJsonSchema": true,
       "metadata": {},
       "overflow": false,
       "plotOptions": {
        "customPlotOptions": {},
        "displayType": "table",
        "pivotAggregation": null,
        "pivotColumns": null,
        "xColumns": null,
        "yColumns": null
       },
       "removedWidgets": [],
       "schema": [
        {
         "metadata": "{}",
         "name": "_corrupt_record",
         "type": "\"string\""
        },
        {
         "metadata": "{}",
         "name": "dataSchemaJson",
         "type": "\"string\""
        },
        {
         "metadata": "{}",
         "name": "partitionSchemaJson",
         "type": "\"string\""
        }
       ],
       "type": "table"
      }
     },
     "output_type": "display_data"
    }
   ],
   "source": [
    "%sql\n",
    "\n",
    "SELECT *\n",
    "FROM JSON.`dbfs:/FileStore/streaming/schemaInfer/_schemas/1`"
   ]
  },
  {
   "cell_type": "markdown",
   "metadata": {
    "application/vnd.databricks.v1+cell": {
     "cellMetadata": {},
     "inputWidgets": {},
     "nuid": "1844cc8a-c3a5-4f7f-958c-f338daeb5312",
     "showTitle": false,
     "title": ""
    }
   },
   "source": [
    "\n",
    "### 03- failOnNewColumns"
   ]
  },
  {
   "cell_type": "code",
   "execution_count": 0,
   "metadata": {
    "application/vnd.databricks.v1+cell": {
     "cellMetadata": {
      "byteLimit": 2048000,
      "rowLimit": 10000
     },
     "inputWidgets": {},
     "nuid": "0bc0335d-f014-405d-a1d3-22b9c1925c35",
     "showTitle": false,
     "title": ""
    }
   },
   "outputs": [
    {
     "output_type": "stream",
     "name": "stdout",
     "output_type": "stream",
     "text": [
      "Out[33]: [FileInfo(path='dbfs:/FileStore/streaming/schemaInfer/_schemas/0', name='0', size=274, modificationTime=1701879153000)]"
     ]
    }
   ],
   "source": [
    "dbutils.fs.ls('dbfs:/FileStore/streaming/schemaInfer/_schemas/')"
   ]
  },
  {
   "cell_type": "code",
   "execution_count": 0,
   "metadata": {
    "application/vnd.databricks.v1+cell": {
     "cellMetadata": {
      "byteLimit": 2048000,
      "rowLimit": 10000
     },
     "inputWidgets": {},
     "nuid": "40551293-04a0-43ea-851d-171907823306",
     "showTitle": false,
     "title": ""
    }
   },
   "outputs": [],
   "source": [
    "df = spark.readStream\\\n",
    "        .format('cloudFiles')\\\n",
    "        .option(\"cloudFiles.format\",\"csv\")\\\n",
    "        .option(\"cloudFiles.schemaLocation\",f'{source_dir}/schemaInfer')\\\n",
    "        .option('cloudFiles.schemaEvolutionMode','failOnNewColumns')\\\n",
    "        .option(\"cloudFiles.inferColumnTypes\",\"true\")\\\n",
    "        .option('cloudFiles.schemaHints',\"Citizens LONG\")\\\n",
    "        .option('header','true')\\\n",
    "        .load(source_dir)"
   ]
  },
  {
   "cell_type": "code",
   "execution_count": 0,
   "metadata": {
    "application/vnd.databricks.v1+cell": {
     "cellMetadata": {
      "byteLimit": 2048000,
      "rowLimit": 10000
     },
     "inputWidgets": {},
     "nuid": "9d41944c-5e3d-4496-a2bf-d7332cf9a8a6",
     "showTitle": false,
     "title": ""
    }
   },
   "outputs": [],
   "source": [
    "display(df)"
   ]
  },
  {
   "cell_type": "code",
   "execution_count": 0,
   "metadata": {
    "application/vnd.databricks.v1+cell": {
     "cellMetadata": {
      "byteLimit": 2048000,
      "rowLimit": 10000
     },
     "inputWidgets": {},
     "nuid": "d3ed75a6-a854-45c2-8b1c-935745fbc32f",
     "showTitle": false,
     "title": ""
    }
   },
   "outputs": [
    {
     "output_type": "stream",
     "name": "stdout",
     "output_type": "stream",
     "text": [
      "Out[36]: [FileInfo(path='dbfs:/FileStore/streaming/schemaInfer/_schemas/0', name='0', size=274, modificationTime=1701879153000)]"
     ]
    }
   ],
   "source": [
    "dbutils.fs.ls('dbfs:/FileStore/streaming/schemaInfer/_schemas/')"
   ]
  },
  {
   "cell_type": "markdown",
   "metadata": {
    "application/vnd.databricks.v1+cell": {
     "cellMetadata": {},
     "inputWidgets": {},
     "nuid": "a7f40440-cb21-4389-899e-f52f6955adfc",
     "showTitle": false,
     "title": ""
    }
   },
   "source": [
    "\n",
    "### None"
   ]
  },
  {
   "cell_type": "code",
   "execution_count": 0,
   "metadata": {
    "application/vnd.databricks.v1+cell": {
     "cellMetadata": {
      "byteLimit": 2048000,
      "rowLimit": 10000
     },
     "inputWidgets": {},
     "nuid": "0e42ea29-5cd9-4b6d-987a-b705ede07301",
     "showTitle": false,
     "title": ""
    }
   },
   "outputs": [],
   "source": [
    "df = spark.readStream\\\n",
    "        .format('cloudFiles')\\\n",
    "        .option(\"cloudFiles.format\",\"csv\")\\\n",
    "        .option(\"cloudFiles.schemaLocation\",f'{source_dir}/schemaInfer')\\\n",
    "        .option('cloudFiles.schemaEvolutionMode','none')\\\n",
    "        .option(\"cloudFiles.inferColumnTypes\",\"true\")\\\n",
    "        .option('cloudFiles.schemaHints',\"Citizens LONG\")\\\n",
    "        .option('header','true')\\\n",
    "        .load(source_dir)"
   ]
  },
  {
   "cell_type": "code",
   "execution_count": 0,
   "metadata": {
    "application/vnd.databricks.v1+cell": {
     "cellMetadata": {
      "byteLimit": 2048000,
      "rowLimit": 10000
     },
     "inputWidgets": {},
     "nuid": "6608538b-e9e9-4134-a888-44134e98673b",
     "showTitle": false,
     "title": ""
    }
   },
   "outputs": [
    {
     "output_type": "display_data",
     "data": {
      "text/html": [
       "<style scoped>\n",
       "  .table-result-container {\n",
       "    max-height: 300px;\n",
       "    overflow: auto;\n",
       "  }\n",
       "  table, th, td {\n",
       "    border: 1px solid black;\n",
       "    border-collapse: collapse;\n",
       "  }\n",
       "  th, td {\n",
       "    padding: 5px;\n",
       "  }\n",
       "  th {\n",
       "    text-align: left;\n",
       "  }\n",
       "</style><div class='table-result-container'><table class='table-result'><thead style='background-color: white'><tr><th>Country</th><th>Citizens</th></tr></thead><tbody><tr><td>India</td><td>10</td></tr><tr><td>USA</td><td>10</td></tr><tr><td>China</td><td>20</td></tr><tr><td>Brazil</td><td>10</td></tr><tr><td>India</td><td>10</td></tr><tr><td>USA</td><td>10</td></tr><tr><td>China</td><td>20</td></tr><tr><td>Brazil</td><td>10</td></tr><tr><td>India</td><td>10</td></tr><tr><td>USA</td><td>5</td></tr><tr><td>China</td><td>10</td></tr><tr><td>India</td><td>10</td></tr><tr><td>Canada</td><td>40</td></tr><tr><td>Brazil</td><td>10</td></tr></tbody></table></div>"
      ]
     },
     "metadata": {
      "application/vnd.databricks.v1+output": {
       "addedWidgets": {},
       "aggData": [],
       "aggError": "",
       "aggOverflow": false,
       "aggSchema": [],
       "aggSeriesLimitReached": false,
       "aggType": "",
       "arguments": {},
       "columnCustomDisplayInfos": {},
       "data": [
        [
         "India",
         10
        ],
        [
         "USA",
         10
        ],
        [
         "China",
         20
        ],
        [
         "Brazil",
         10
        ],
        [
         "India",
         10
        ],
        [
         "USA",
         10
        ],
        [
         "China",
         20
        ],
        [
         "Brazil",
         10
        ],
        [
         "India",
         10
        ],
        [
         "USA",
         5
        ],
        [
         "China",
         10
        ],
        [
         "India",
         10
        ],
        [
         "Canada",
         40
        ],
        [
         "Brazil",
         10
        ]
       ],
       "datasetInfos": [],
       "dbfsResultPath": null,
       "isJsonSchema": true,
       "metadata": {
        "isDbfsCommandResult": false
       },
       "overflow": false,
       "plotOptions": {
        "customPlotOptions": {},
        "displayType": "table",
        "pivotAggregation": null,
        "pivotColumns": null,
        "xColumns": null,
        "yColumns": null
       },
       "removedWidgets": [],
       "schema": [
        {
         "metadata": "{}",
         "name": "Country",
         "type": "\"string\""
        },
        {
         "metadata": "{}",
         "name": "Citizens",
         "type": "\"long\""
        }
       ],
       "type": "table"
      }
     },
     "output_type": "display_data"
    }
   ],
   "source": [
    "display(df)"
   ]
  },
  {
   "cell_type": "code",
   "execution_count": 0,
   "metadata": {
    "application/vnd.databricks.v1+cell": {
     "cellMetadata": {},
     "inputWidgets": {},
     "nuid": "31d2f0c4-c6a2-43b9-961e-601a4e10fc04",
     "showTitle": false,
     "title": ""
    }
   },
   "outputs": [],
   "source": []
  }
 ],
 "metadata": {
  "application/vnd.databricks.v1+notebook": {
   "dashboards": [],
   "language": "python",
   "notebookMetadata": {
    "mostRecentlyExecutedCommandWithImplicitDF": {
     "commandId": 922490165616199,
     "dataframes": [
      "_sqldf"
     ]
    },
    "pythonIndentUnit": 4
   },
   "notebookName": "04. Autoloader - Schema Evolution",
   "widgets": {}
  }
 },
 "nbformat": 4,
 "nbformat_minor": 0
}
